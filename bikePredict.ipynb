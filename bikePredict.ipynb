{
  "nbformat": 4,
  "nbformat_minor": 0,
  "metadata": {
    "colab": {
      "provenance": [],
      "mount_file_id": "1RCwe2K20SKGJQnnaTUF4WW6-n-MEjQ7b",
      "authorship_tag": "ABX9TyPYWPJX2YMa9/AK2KO0xTx9",
      "include_colab_link": true
    },
    "kernelspec": {
      "name": "python3",
      "display_name": "Python 3"
    },
    "language_info": {
      "name": "python"
    }
  },
  "cells": [
    {
      "cell_type": "markdown",
      "metadata": {
        "id": "view-in-github",
        "colab_type": "text"
      },
      "source": [
        "<a href=\"https://colab.research.google.com/github/kong-jh/capstone-design2/blob/main/bikePredict.ipynb\" target=\"_parent\"><img src=\"https://colab.research.google.com/assets/colab-badge.svg\" alt=\"Open In Colab\"/></a>"
      ]
    },
    {
      "cell_type": "code",
      "execution_count": 6,
      "metadata": {
        "id": "hXmCHRsUIRJi"
      },
      "outputs": [],
      "source": [
        "import pandas as pd\n",
        "import matplotlib as mpl\n",
        "import matplotlib.pyplot as plt\n",
        "import seaborn as sns\n",
        "import numpy as np\n",
        "import warnings\n",
        "\n",
        "warnings.filterwarnings('ignore')"
      ]
    },
    {
      "cell_type": "code",
      "source": [
        "import os\n",
        "\n",
        "base_dir = './drive/MyDrive/predict/data/'"
      ],
      "metadata": {
        "id": "OSWgr5JAOQ3g"
      },
      "execution_count": 2,
      "outputs": []
    },
    {
      "cell_type": "markdown",
      "source": [
        "## 1. 서울시 공공자전거 이용정보"
      ],
      "metadata": {
        "id": "Ssc8tkqHbnzl"
      }
    },
    {
      "cell_type": "code",
      "source": [
        "bike_df = pd.read_csv(base_dir+'서울특별시 공공자전거 이용정보(시간대별)_21.01.csv', encoding='cp949')\n",
        "file_nm = '서울특별시 공공자전거 이용정보(시간대별)_21.'\n",
        "months = ['02', '03', '04', '05', '06', '07', '08', '09', '10', '11', '12']\n",
        "\n",
        "for month in months:\n",
        "  df = pd.read_csv(base_dir+file_nm+month+'.csv', encoding='cp949')\n",
        "  bike_df = pd.concat([bike_df, df])\n",
        "bike_df['대여소명'] = bike_df['대여소명'].astype('category')"
      ],
      "metadata": {
        "id": "U4jLkKiBQgOQ"
      },
      "execution_count": 3,
      "outputs": []
    },
    {
      "cell_type": "code",
      "source": [
        "bike_df['대여일자'] = bike_df['대여일자'].astype('datetime64[ns]')\n",
        "bike_df['월'] = bike_df['대여일자'].dt.month\n",
        "bike_df['일'] = bike_df['대여일자'].dt.day\n",
        "bike_df['요일'] = bike_df['대여일자'].dt.dayofweek\n",
        "bike_df = bike_df[['월', '일', '요일', '대여시간', '대여소번호', '대여소명', '이용건수', '이동거리', '사용시간']]"
      ],
      "metadata": {
        "id": "8S8sMXMbRxYB"
      },
      "execution_count": 4,
      "outputs": []
    },
    {
      "cell_type": "code",
      "source": [
        "khu = bike_df[bike_df['대여소번호']==661]\n",
        "khu = khu.groupby(['월', '일', '대여시간', '요일'])['이용건수'].sum().reset_index()"
      ],
      "metadata": {
        "id": "FyrsqzZ_zTRe"
      },
      "execution_count": 7,
      "outputs": []
    },
    {
      "cell_type": "markdown",
      "source": [
        "## 2. 기상정보"
      ],
      "metadata": {
        "id": "PUzFSPOzzLH8"
      }
    },
    {
      "cell_type": "code",
      "source": [
        "weather = pd.read_csv(base_dir+'OBS_AWS_TIM_20221121230810.csv', encoding='cp949')\n",
        "weather['일시'] = weather['일시'].astype('datetime64[ns]')\n",
        "weather['월'] = weather['일시'].dt.month\n",
        "weather['일'] = weather['일시'].dt.day\n",
        "weather['대여시간'] = weather['일시'].dt.hour\n",
        "weather = weather[['월', '일', '대여시간', '기온(°C)', '풍향(deg)',\t'풍속(m/s)',\t'강수량(mm)',\t'습도(%)']]\n",
        "weather.head()"
      ],
      "metadata": {
        "colab": {
          "base_uri": "https://localhost:8080/",
          "height": 206
        },
        "id": "oDUged2VzPqk",
        "outputId": "73152ee8-6636-48b3-8318-635228060ec4"
      },
      "execution_count": 8,
      "outputs": [
        {
          "output_type": "execute_result",
          "data": {
            "text/plain": [
              "   월  일  대여시간  기온(°C)  풍향(deg)  풍속(m/s)  강수량(mm)  습도(%)\n",
              "0  1  1     1    -6.7    109.8      0.9      0.0   51.4\n",
              "1  1  1     2    -6.9     94.8      0.6      0.0   55.4\n",
              "2  1  1     3    -7.3    135.6      0.6      0.0   56.0\n",
              "3  1  1     4    -7.6     72.6      0.6      0.0   59.5\n",
              "4  1  1     5    -8.0     61.7      0.8      0.0   61.2"
            ],
            "text/html": [
              "\n",
              "  <div id=\"df-c3a95b3c-5c38-4df4-ab17-c50a9eb3d0f2\">\n",
              "    <div class=\"colab-df-container\">\n",
              "      <div>\n",
              "<style scoped>\n",
              "    .dataframe tbody tr th:only-of-type {\n",
              "        vertical-align: middle;\n",
              "    }\n",
              "\n",
              "    .dataframe tbody tr th {\n",
              "        vertical-align: top;\n",
              "    }\n",
              "\n",
              "    .dataframe thead th {\n",
              "        text-align: right;\n",
              "    }\n",
              "</style>\n",
              "<table border=\"1\" class=\"dataframe\">\n",
              "  <thead>\n",
              "    <tr style=\"text-align: right;\">\n",
              "      <th></th>\n",
              "      <th>월</th>\n",
              "      <th>일</th>\n",
              "      <th>대여시간</th>\n",
              "      <th>기온(°C)</th>\n",
              "      <th>풍향(deg)</th>\n",
              "      <th>풍속(m/s)</th>\n",
              "      <th>강수량(mm)</th>\n",
              "      <th>습도(%)</th>\n",
              "    </tr>\n",
              "  </thead>\n",
              "  <tbody>\n",
              "    <tr>\n",
              "      <th>0</th>\n",
              "      <td>1</td>\n",
              "      <td>1</td>\n",
              "      <td>1</td>\n",
              "      <td>-6.7</td>\n",
              "      <td>109.8</td>\n",
              "      <td>0.9</td>\n",
              "      <td>0.0</td>\n",
              "      <td>51.4</td>\n",
              "    </tr>\n",
              "    <tr>\n",
              "      <th>1</th>\n",
              "      <td>1</td>\n",
              "      <td>1</td>\n",
              "      <td>2</td>\n",
              "      <td>-6.9</td>\n",
              "      <td>94.8</td>\n",
              "      <td>0.6</td>\n",
              "      <td>0.0</td>\n",
              "      <td>55.4</td>\n",
              "    </tr>\n",
              "    <tr>\n",
              "      <th>2</th>\n",
              "      <td>1</td>\n",
              "      <td>1</td>\n",
              "      <td>3</td>\n",
              "      <td>-7.3</td>\n",
              "      <td>135.6</td>\n",
              "      <td>0.6</td>\n",
              "      <td>0.0</td>\n",
              "      <td>56.0</td>\n",
              "    </tr>\n",
              "    <tr>\n",
              "      <th>3</th>\n",
              "      <td>1</td>\n",
              "      <td>1</td>\n",
              "      <td>4</td>\n",
              "      <td>-7.6</td>\n",
              "      <td>72.6</td>\n",
              "      <td>0.6</td>\n",
              "      <td>0.0</td>\n",
              "      <td>59.5</td>\n",
              "    </tr>\n",
              "    <tr>\n",
              "      <th>4</th>\n",
              "      <td>1</td>\n",
              "      <td>1</td>\n",
              "      <td>5</td>\n",
              "      <td>-8.0</td>\n",
              "      <td>61.7</td>\n",
              "      <td>0.8</td>\n",
              "      <td>0.0</td>\n",
              "      <td>61.2</td>\n",
              "    </tr>\n",
              "  </tbody>\n",
              "</table>\n",
              "</div>\n",
              "      <button class=\"colab-df-convert\" onclick=\"convertToInteractive('df-c3a95b3c-5c38-4df4-ab17-c50a9eb3d0f2')\"\n",
              "              title=\"Convert this dataframe to an interactive table.\"\n",
              "              style=\"display:none;\">\n",
              "        \n",
              "  <svg xmlns=\"http://www.w3.org/2000/svg\" height=\"24px\"viewBox=\"0 0 24 24\"\n",
              "       width=\"24px\">\n",
              "    <path d=\"M0 0h24v24H0V0z\" fill=\"none\"/>\n",
              "    <path d=\"M18.56 5.44l.94 2.06.94-2.06 2.06-.94-2.06-.94-.94-2.06-.94 2.06-2.06.94zm-11 1L8.5 8.5l.94-2.06 2.06-.94-2.06-.94L8.5 2.5l-.94 2.06-2.06.94zm10 10l.94 2.06.94-2.06 2.06-.94-2.06-.94-.94-2.06-.94 2.06-2.06.94z\"/><path d=\"M17.41 7.96l-1.37-1.37c-.4-.4-.92-.59-1.43-.59-.52 0-1.04.2-1.43.59L10.3 9.45l-7.72 7.72c-.78.78-.78 2.05 0 2.83L4 21.41c.39.39.9.59 1.41.59.51 0 1.02-.2 1.41-.59l7.78-7.78 2.81-2.81c.8-.78.8-2.07 0-2.86zM5.41 20L4 18.59l7.72-7.72 1.47 1.35L5.41 20z\"/>\n",
              "  </svg>\n",
              "      </button>\n",
              "      \n",
              "  <style>\n",
              "    .colab-df-container {\n",
              "      display:flex;\n",
              "      flex-wrap:wrap;\n",
              "      gap: 12px;\n",
              "    }\n",
              "\n",
              "    .colab-df-convert {\n",
              "      background-color: #E8F0FE;\n",
              "      border: none;\n",
              "      border-radius: 50%;\n",
              "      cursor: pointer;\n",
              "      display: none;\n",
              "      fill: #1967D2;\n",
              "      height: 32px;\n",
              "      padding: 0 0 0 0;\n",
              "      width: 32px;\n",
              "    }\n",
              "\n",
              "    .colab-df-convert:hover {\n",
              "      background-color: #E2EBFA;\n",
              "      box-shadow: 0px 1px 2px rgba(60, 64, 67, 0.3), 0px 1px 3px 1px rgba(60, 64, 67, 0.15);\n",
              "      fill: #174EA6;\n",
              "    }\n",
              "\n",
              "    [theme=dark] .colab-df-convert {\n",
              "      background-color: #3B4455;\n",
              "      fill: #D2E3FC;\n",
              "    }\n",
              "\n",
              "    [theme=dark] .colab-df-convert:hover {\n",
              "      background-color: #434B5C;\n",
              "      box-shadow: 0px 1px 3px 1px rgba(0, 0, 0, 0.15);\n",
              "      filter: drop-shadow(0px 1px 2px rgba(0, 0, 0, 0.3));\n",
              "      fill: #FFFFFF;\n",
              "    }\n",
              "  </style>\n",
              "\n",
              "      <script>\n",
              "        const buttonEl =\n",
              "          document.querySelector('#df-c3a95b3c-5c38-4df4-ab17-c50a9eb3d0f2 button.colab-df-convert');\n",
              "        buttonEl.style.display =\n",
              "          google.colab.kernel.accessAllowed ? 'block' : 'none';\n",
              "\n",
              "        async function convertToInteractive(key) {\n",
              "          const element = document.querySelector('#df-c3a95b3c-5c38-4df4-ab17-c50a9eb3d0f2');\n",
              "          const dataTable =\n",
              "            await google.colab.kernel.invokeFunction('convertToInteractive',\n",
              "                                                     [key], {});\n",
              "          if (!dataTable) return;\n",
              "\n",
              "          const docLinkHtml = 'Like what you see? Visit the ' +\n",
              "            '<a target=\"_blank\" href=https://colab.research.google.com/notebooks/data_table.ipynb>data table notebook</a>'\n",
              "            + ' to learn more about interactive tables.';\n",
              "          element.innerHTML = '';\n",
              "          dataTable['output_type'] = 'display_data';\n",
              "          await google.colab.output.renderOutput(dataTable, element);\n",
              "          const docLink = document.createElement('div');\n",
              "          docLink.innerHTML = docLinkHtml;\n",
              "          element.appendChild(docLink);\n",
              "        }\n",
              "      </script>\n",
              "    </div>\n",
              "  </div>\n",
              "  "
            ]
          },
          "metadata": {},
          "execution_count": 8
        }
      ]
    },
    {
      "cell_type": "code",
      "source": [
        "weather['강수량(mm)'].fillna(0, inplace=True)\n",
        "weather = weather.dropna(axis=0)\n",
        "weather.isnull().sum()"
      ],
      "metadata": {
        "colab": {
          "base_uri": "https://localhost:8080/"
        },
        "id": "lKQnxoI7zex0",
        "outputId": "b1bcc9bc-58f5-4d7c-a5a3-5e48643e409f"
      },
      "execution_count": 9,
      "outputs": [
        {
          "output_type": "execute_result",
          "data": {
            "text/plain": [
              "월          0\n",
              "일          0\n",
              "대여시간       0\n",
              "기온(°C)     0\n",
              "풍향(deg)    0\n",
              "풍속(m/s)    0\n",
              "강수량(mm)    0\n",
              "습도(%)      0\n",
              "dtype: int64"
            ]
          },
          "metadata": {},
          "execution_count": 9
        }
      ]
    },
    {
      "cell_type": "markdown",
      "source": [
        "## 3. 데이터"
      ],
      "metadata": {
        "id": "fiSDxMoBzoV8"
      }
    },
    {
      "cell_type": "code",
      "source": [
        "df = khu.merge(weather, on=['월', '일', '대여시간'])\n",
        "df['이용건수'] = df['이용건수'].astype('int64')\n",
        "df = df.join(pd.get_dummies(df['요일'], prefix='요일'))"
      ],
      "metadata": {
        "id": "vug7OFdhzg15"
      },
      "execution_count": 10,
      "outputs": []
    },
    {
      "cell_type": "code",
      "source": [
        "cols = ['월', '대여시간', '기온(°C)', '풍향(deg)', '풍속(m/s)', '강수량(mm)', '습도(%)', '요일_0', '요일_1', '요일_2', '요일_3', '요일_4', '요일_5', '요일_6']"
      ],
      "metadata": {
        "id": "pzt-QhGLz0Ho"
      },
      "execution_count": 11,
      "outputs": []
    },
    {
      "cell_type": "markdown",
      "source": [
        "## 4. 학습"
      ],
      "metadata": {
        "id": "Pbfu_iaxz2la"
      }
    },
    {
      "cell_type": "code",
      "source": [
        "from sklearn.model_selection import train_test_split\n",
        "\n",
        "X_train, X_test, y_train, y_test = train_test_split(df[cols], df['이용건수'], test_size=0.2, random_state=42)"
      ],
      "metadata": {
        "id": "vsL5Ma5Bz4R5"
      },
      "execution_count": 12,
      "outputs": []
    },
    {
      "cell_type": "code",
      "source": [
        "from sklearn.metrics import mean_absolute_error\n",
        "from sklearn.model_selection import GridSearchCV\n",
        "import xgboost as xgb\n",
        "from scipy.stats import uniform, randint\n",
        "\n",
        "n = 3\n",
        "\n",
        "param_grid = {\n",
        "    \"gamma\": uniform(0, 0.5).rvs(n),\n",
        "    \"max_depth\": range(2, 7),\n",
        "    \"n_estimators\": randint(100, 150).rvs(n),\n",
        "}\n",
        "\n",
        "grid = GridSearchCV(xgb.XGBRegressor(), cv=5, n_jobs=-1, param_grid=param_grid)\n",
        "grid = grid.fit(X_train, y_train)\n",
        "\n",
        "model = grid.best_estimator_\n",
        "predictions = model.predict(X_test)\n",
        "mae = mean_absolute_error(y_test, predictions)\n",
        "\n",
        "print(mae)"
      ],
      "metadata": {
        "colab": {
          "base_uri": "https://localhost:8080/"
        },
        "id": "cHHTl9_pz_28",
        "outputId": "ba7e2e87-43cd-4965-c056-85273ffb3517"
      },
      "execution_count": 13,
      "outputs": [
        {
          "output_type": "stream",
          "name": "stdout",
          "text": [
            "[14:08:48] WARNING: /workspace/src/objective/regression_obj.cu:152: reg:linear is now deprecated in favor of reg:squarederror.\n",
            "1.736959438669611\n"
          ]
        }
      ]
    },
    {
      "cell_type": "code",
      "source": [
        "model.save_model('./drive/MyDrive/predict/661.model')"
      ],
      "metadata": {
        "id": "HLq8cNJ10Dos"
      },
      "execution_count": 14,
      "outputs": []
    }
  ]
}